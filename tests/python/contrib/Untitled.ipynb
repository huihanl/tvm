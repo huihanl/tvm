{
 "cells": [
  {
   "cell_type": "code",
   "execution_count": 250,
   "metadata": {},
   "outputs": [],
   "source": [
    "#!/usr/bin/env python\n",
    "# coding: utf-8\n",
    "\n",
    "# # Perf. vs. Configuration High Dim Visualization\n",
    "\n",
    "import matplotlib.pyplot as plt\n",
    "import numpy as np\n",
    "import pandas as pd\n",
    "import math\n",
    "import sys\n",
    "\n",
    "# You will have to register for an account for plotly, which is free for 25 plots / month.\n",
    "# After you registered a username, it will then generate an api_key for you.\n",
    "# Then run plotly.tools.set_credentials_file(username='$USERNAME', api_key=$API_KEY)\n",
    "\n",
    "import plotly as py\n",
    "import plotly.graph_objs as go\n",
    "import pandas as pd"
   ]
  },
  {
   "cell_type": "code",
   "execution_count": 251,
   "metadata": {},
   "outputs": [],
   "source": [
    "#fbgemm_results_1_32_16_12_14_4_3_3_1_1_0_0_0_0.log\n",
    "#fbgemm_results_1_32_32_14_14_1_3_3_1_1_0_0_0_0.log\n",
    "#fbgemm_results_1_32_32_14_14_1_3_3_1_1_1_1_1_1.log\n",
    "#fbgemm_results_1_3_64_224_224_1_7_7_2_2_3_3_3_3.log\n",
    "#fbgemm_results_1_544_544_14_14_1_3_3_2_2_1_1_1_1.log\n",
    "#fbgemm_results_1_8_8_4_4_1_3_3_1_1_1_1_0_0.log\n",
    "#fbgemm_results_2_32_16_16_14_4_3_3_1_1_0_0_0_0.log\n",
    "#fbgemm_results_2_32_32_14_14_1_3_3_1_1_0_0_0_0.log\n",
    "#fbgemm_results_2_32_32_28_14_1_3_3_1_1_1_1_0_0.log\n",
    "\n",
    "good_filepaths = [\n",
    "    \n",
    "    \"fbgemm_final_results_1_32_16_12_14_4_3_3_1_1_0_0_0_0.log\",\n",
    "    \"fbgemm_final_results_1_32_32_14_14_1_3_3_1_1_0_0_0_0.log\",\n",
    "    \"fbgemm_final_results_1_32_32_14_14_1_3_3_1_1_1_1_1_1.log\",\n",
    "    \"fbgemm_final_results_1_3_64_224_224_1_7_7_2_2_3_3_3_3.log\",\n",
    "    \"fbgemm_final_results_1_544_544_14_14_1_3_3_2_2_1_1_1_1.log\",\n",
    "    \"fbgemm_final_results_1_8_8_4_4_1_3_3_1_1_1_1_0_0.log\",\n",
    "    \"fbgemm_final_results_2_32_16_16_14_4_3_3_1_1_0_0_0_0.log\",\n",
    "    \"fbgemm_final_results_2_32_32_14_14_1_3_3_1_1_0_0_0_0.log\",\n",
    "    \"fbgemm_final_results_2_32_32_28_14_1_3_3_1_1_1_1_0_0.log\"\n",
    "]\n",
    "\n",
    "add_filepaths = [\n",
    "    \n",
    "    \"fbgemm_add_results_1_32_16_12_14_4_3_3_1_1_0_0_0_0.log\",\n",
    "    \"fbgemm_add_results_1_32_32_14_14_1_3_3_1_1_0_0_0_0.log\",\n",
    "    \"fbgemm_add_results_1_32_32_14_14_1_3_3_1_1_1_1_1_1.log\",\n",
    "    \"fbgemm_add_results_1_3_64_224_224_1_7_7_2_2_3_3_3_3.log\",\n",
    "    \"fbgemm_add_results_1_544_544_14_14_1_3_3_2_2_1_1_1_1.log\",\n",
    "    \"fbgemm_add_results_1_8_8_4_4_1_3_3_1_1_1_1_0_0.log\",\n",
    "    \"fbgemm_add_results_2_32_16_16_14_4_3_3_1_1_0_0_0_0.log\",\n",
    "    \"fbgemm_add_results_2_32_32_14_14_1_3_3_1_1_0_0_0_0.log\",\n",
    "    \"fbgemm_add_results_2_32_32_28_14_1_3_3_1_1_1_1_0_0.log\"\n",
    "]\n",
    "\n",
    "default_filepaths = [\n",
    "    \n",
    " \"fbgemm_default_results_1_1024_1024_14_14_32_3_3_2_2_1_1_1_1.log\",\n",
    " \"fbgemm_default_results_1_1024_1024_7_7_32_3_3_1_1_1_1_1_1.log\",\n",
    " \"fbgemm_default_results_1_256_256_56_56_32_3_3_2_2_1_1_1_1.log\",\n",
    " \"fbgemm_default_results_1_32_16_12_14_4_3_3_1_1_0_0_0_0.log\",\n",
    " \"fbgemm_default_results_1_32_32_14_14_1_3_3_1_1_0_0_0_0.log\",\n",
    " \"fbgemm_default_results_1_32_32_14_14_1_3_3_1_1_1_1_1_1.log\",\n",
    " \"fbgemm_default_results_1_3_64_224_224_1_7_7_2_2_3_3_3_3.log\",\n",
    " \"fbgemm_default_results_1_512_512_28_28_32_3_3_2_2_1_1_1_1.log\",\n",
    " \"fbgemm_default_results_1_544_544_14_14_1_3_3_2_2_1_1_1_1.log\",\n",
    " \"fbgemm_default_results_1_8_8_4_4_1_3_3_1_1_1_1_0_0.log\",\n",
    " \"fbgemm_default_results_2_32_16_16_14_4_3_3_1_1_0_0_0_0.log\",\n",
    " \"fbgemm_default_results_2_32_32_14_14_1_3_3_1_1_0_0_0_0.log\",\n",
    " \"fbgemm_default_results_2_32_32_28_14_1_3_3_1_1_1_1_0_0.log\",\n",
    " \"fbgemm_default_results_50_1024_1024_14_14_32_3_3_2_2_1_1_1_1.log\",\n",
    " \"fbgemm_default_results_50_1024_1024_7_7_32_3_3_1_1_1_1_1_1.log\",\n",
    " #\"fbgemm_default_results_50_256_256_56_56_32_3_3_2_2_1_1_1_1.log\",\n",
    " \"fbgemm_default_results_50_3_64_224_224_1_7_7_2_2_3_3_3_3.log\",\n",
    " \"fbgemm_default_results_50_512_512_28_28_32_3_3_2_2_1_1_1_1.log\"\n",
    "]\n",
    "\n",
    "excel_filepaths = [\n",
    " \"fbgemm_correct_excel_results_1_1024_2048_14_14_1_1_1_2_2_0_0_0_0.log\",\n",
    " \"fbgemm_correct_excel_results_1_1024_256_14_14_1_1_1_1_1_0_0_0_0.log\",\n",
    " \"fbgemm_correct_excel_results_1_1024_512_14_14_1_1_1_1_1_0_0_0_0.log\",\n",
    " \"fbgemm_correct_excel_results_1_128_128_28_28_1_3_3_1_1_1_1_1_1.log\",\n",
    " \"fbgemm_correct_excel_results_1_128_128_56_56_1_3_3_2_2_1_1_1_1.log\",\n",
    " \"fbgemm_correct_excel_results_1_128_512_28_28_1_1_1_1_1_0_0_0_0.log\",\n",
    " \"fbgemm_correct_excel_results_1_2048_512_7_7_1_1_1_1_1_0_0_0_0.log\",\n",
    " \"fbgemm_correct_excel_results_1_256_1024_14_14_1_1_1_1_1_0_0_0_0.log\",\n",
    " \"fbgemm_correct_excel_results_1_256_128_56_56_1_1_1_1_1_0_0_0_0.log\",\n",
    " \"fbgemm_correct_excel_results_1_256_256_14_14_1_3_3_1_1_1_1_1_1.log\",\n",
    " \"fbgemm_correct_excel_results_1_256_256_28_28_1_3_3_2_2_1_1_1_1.log\",\n",
    " \"fbgemm_correct_excel_results_1_256_512_56_56_1_1_1_2_2_0_0_0_0.log\",\n",
    " \"fbgemm_correct_excel_results_1_256_64_56_56_1_1_1_1_1_0_0_0_0.log\",\n",
    " \"fbgemm_correct_excel_results_1_3_64_224_224_1_7_7_2_2_3_3_3_3.log\",\n",
    " \"fbgemm_correct_excel_results_1_512_1024_28_28_1_1_1_2_2_0_0_0_0.log\",\n",
    " \"fbgemm_correct_excel_results_1_512_128_28_28_1_1_1_1_1_0_0_0_0.log\",\n",
    " \"fbgemm_correct_excel_results_1_512_2048_7_7_1_1_1_1_1_0_0_0_0.log\",\n",
    " \"fbgemm_correct_excel_results_1_512_256_28_28_1_1_1_1_1_0_0_0_0.log\",\n",
    " \"fbgemm_correct_excel_results_1_512_512_14_14_1_3_3_2_2_1_1_1_1.log\",\n",
    " \"fbgemm_correct_excel_results_1_512_512_7_7_1_3_3_1_1_1_1_1_1.log\",\n",
    " \"fbgemm_correct_excel_results_1_64_256_56_56_1_1_1_1_1_0_0_0_0.log\",\n",
    " \"fbgemm_correct_excel_results_1_64_64_56_56_1_1_1_1_1_0_0_0_0.log\",\n",
    " \"fbgemm_correct_excel_results_1_64_64_56_56_1_3_3_1_1_1_1_1_1.log\"]"
   ]
  },
  {
   "cell_type": "code",
   "execution_count": 252,
   "metadata": {},
   "outputs": [
    {
     "name": "stdout",
     "output_type": "stream",
     "text": [
      "1_64_256_56_56_1_1_1_1_1_0_0\n",
      "1_128_512_28_28_1_1_1_1_1_0_0\n",
      "1_256_512_56_56_1_1_1_2_2_0_0\n",
      "1_256_1024_14_14_1_1_1_1_1_0_0\n",
      "1_512_1024_28_28_1_1_1_2_2_0_0\n",
      "1_512_2048_7_7_1_1_1_1_1_0_0\n",
      "1_1024_2048_14_14_1_1_1_2_2_0_0\n",
      "1_3_64_224_224_1_7_7_2_2_3_3\n",
      "1_64_64_56_56_1_1_1_1_1_0_0\n",
      "1_64_64_56_56_1_3_3_1_1_1_1\n",
      "1_256_64_56_56_1_1_1_1_1_0_0\n",
      "1_256_128_56_56_1_1_1_1_1_0_0\n",
      "1_128_128_56_56_1_3_3_2_2_1_1\n",
      "1_512_128_28_28_1_1_1_1_1_0_0\n",
      "1_128_128_28_28_1_3_3_1_1_1_1\n",
      "1_512_256_28_28_1_1_1_1_1_0_0\n",
      "1_256_256_28_28_1_3_3_2_2_1_1\n",
      "1_1024_256_14_14_1_1_1_1_1_0_0\n",
      "1_256_256_14_14_1_3_3_1_1_1_1\n",
      "1_1024_512_14_14_1_1_1_1_1_0_0\n",
      "1_512_512_14_14_1_3_3_2_2_1_1\n",
      "1_2048_512_7_7_1_1_1_1_1_0_0\n",
      "1_512_512_7_7_1_3_3_1_1_1_1\n"
     ]
    }
   ],
   "source": [
    "time_lst = []\n",
    "config_lst = []\n",
    "TOTAL_filepath = \"../../../\" + \"fbgemm.txt\"\n",
    "with open(TOTAL_filepath) as fp:\n",
    "    for _, line in enumerate(fp):\n",
    "        things = line.split(\",\")\n",
    "        a = \"_\".join(things[0:12])\n",
    "        b = a.translate({ord(c): None for c in string.whitespace})\n",
    "        print(b)\n",
    "        config_lst.append(b)\n",
    "        time_lst.append(eval(things[-1]))"
   ]
  },
  {
   "cell_type": "code",
   "execution_count": 253,
   "metadata": {},
   "outputs": [
    {
     "data": {
      "text/plain": [
       "[86.9,\n",
       " 111.9,\n",
       " 126.51,\n",
       " 126.15,\n",
       " 136.04,\n",
       " 128.81,\n",
       " 139.47,\n",
       " 75.04,\n",
       " 63.88,\n",
       " 82.73,\n",
       " 109.77,\n",
       " 123.81,\n",
       " 119.38,\n",
       " 123.78,\n",
       " 119.81,\n",
       " 133.7,\n",
       " 136.16,\n",
       " 131.78,\n",
       " 138.69,\n",
       " 141.79,\n",
       " 138.4,\n",
       " 139.79,\n",
       " 145.24]"
      ]
     },
     "execution_count": 253,
     "metadata": {},
     "output_type": "execute_result"
    }
   ],
   "source": [
    "time_lst"
   ]
  },
  {
   "cell_type": "code",
   "execution_count": 254,
   "metadata": {},
   "outputs": [],
   "source": [
    "config_lst = [\n",
    "    \n",
    "            [1, 64, 256, [56, 56], 1, [1, 1], [1, 1], [0, 0, 0, 0]],\n",
    "             [1, 128, 512, [28, 28], 1, [1, 1], [1, 1], [0, 0, 0, 0]],\n",
    "             [1, 256, 512, [56, 56], 1, [1, 1], [2, 2], [0, 0, 0, 0]],\n",
    "             [1, 256, 1024, [14, 14], 1, [1, 1], [1, 1], [0, 0, 0, 0]],\n",
    "             [1, 512, 1024, [28, 28], 1, [1, 1], [2, 2], [0, 0, 0, 0]],\n",
    "             [1, 512, 2048, [7, 7], 1, [1, 1], [1, 1], [0, 0, 0, 0]],\n",
    "             [1, 1024, 2048, [14, 14], 1, [1, 1], [2, 2], [0, 0, 0, 0]],\n",
    "             [1, 3, 64, [224, 224], 1, [7, 7], [2, 2], [3, 3, 3, 3]],\n",
    "             [1, 64, 64, [56, 56], 1, [1, 1], [1, 1], [0, 0, 0, 0]],\n",
    "             [1, 64, 64, [56, 56], 1, [3, 3], [1, 1], [1, 1, 1, 1]],\n",
    "             [1, 256, 64, [56, 56], 1, [1, 1], [1, 1], [0, 0, 0, 0]],\n",
    "             [1, 256, 128, [56, 56], 1, [1, 1], [1, 1], [0, 0, 0, 0]],\n",
    "             [1, 128, 128, [56, 56], 1, [3, 3], [2, 2], [1, 1, 1, 1]],\n",
    "             [1, 512, 128, [28, 28], 1, [1, 1], [1, 1], [0, 0, 0, 0]],\n",
    "             [1, 128, 128, [28, 28], 1, [3, 3], [1, 1], [1, 1, 1, 1]],\n",
    "             [1, 512, 256, [28, 28], 1, [1, 1], [1, 1], [0, 0, 0, 0]],\n",
    "             [1, 256, 256, [28, 28], 1, [3, 3], [2, 2], [1, 1, 1, 1]],\n",
    "             [1, 1024, 256, [14, 14], 1, [1, 1], [1, 1], [0, 0, 0, 0]],\n",
    "             [1, 256, 256, [14, 14], 1, [3, 3], [1, 1], [1, 1, 1, 1]],\n",
    "            [1, 1024, 512, [14, 14], 1, [1, 1], [1, 1], [0, 0, 0, 0]],\n",
    "            [1, 512, 512, [14, 14], 1, [3, 3], [2, 2], [1, 1, 1, 1]],\n",
    "            [1, 2048, 512, [7, 7], 1, [1, 1], [1, 1], [0, 0, 0, 0]],\n",
    "            [1, 512, 512, [7, 7], 1, [3, 3], [1, 1], [1, 1, 1, 1]],\n",
    "]\n",
    "\n",
    "log_file_name_lst = []\n",
    "\n",
    "for config in config_lst:\n",
    "    \n",
    "    log_file_name = \"fbgemm_correct_excel_results_{}_{}_{}_{}_{}_{}_{}_{}_{}_{}_{}_{}_{}_{}.log\"\\\n",
    "    .format(config[0], config[1], config[2], config[3][0], config[3][1],\n",
    "            config[4], config[5][0], config[5][1], config[6][0], config[6][1], \n",
    "            config[7][0], config[7][1], config[7][2], config[7][3])\n",
    "    log_file_name_lst.append(log_file_name)"
   ]
  },
  {
   "cell_type": "code",
   "execution_count": 255,
   "metadata": {},
   "outputs": [
    {
     "data": {
      "text/plain": [
       "['fbgemm_correct_excel_results_1_64_256_56_56_1_1_1_1_1_0_0_0_0.log',\n",
       " 'fbgemm_correct_excel_results_1_128_512_28_28_1_1_1_1_1_0_0_0_0.log',\n",
       " 'fbgemm_correct_excel_results_1_256_512_56_56_1_1_1_2_2_0_0_0_0.log',\n",
       " 'fbgemm_correct_excel_results_1_256_1024_14_14_1_1_1_1_1_0_0_0_0.log',\n",
       " 'fbgemm_correct_excel_results_1_512_1024_28_28_1_1_1_2_2_0_0_0_0.log',\n",
       " 'fbgemm_correct_excel_results_1_512_2048_7_7_1_1_1_1_1_0_0_0_0.log',\n",
       " 'fbgemm_correct_excel_results_1_1024_2048_14_14_1_1_1_2_2_0_0_0_0.log',\n",
       " 'fbgemm_correct_excel_results_1_3_64_224_224_1_7_7_2_2_3_3_3_3.log',\n",
       " 'fbgemm_correct_excel_results_1_64_64_56_56_1_1_1_1_1_0_0_0_0.log',\n",
       " 'fbgemm_correct_excel_results_1_64_64_56_56_1_3_3_1_1_1_1_1_1.log',\n",
       " 'fbgemm_correct_excel_results_1_256_64_56_56_1_1_1_1_1_0_0_0_0.log',\n",
       " 'fbgemm_correct_excel_results_1_256_128_56_56_1_1_1_1_1_0_0_0_0.log',\n",
       " 'fbgemm_correct_excel_results_1_128_128_56_56_1_3_3_2_2_1_1_1_1.log',\n",
       " 'fbgemm_correct_excel_results_1_512_128_28_28_1_1_1_1_1_0_0_0_0.log',\n",
       " 'fbgemm_correct_excel_results_1_128_128_28_28_1_3_3_1_1_1_1_1_1.log',\n",
       " 'fbgemm_correct_excel_results_1_512_256_28_28_1_1_1_1_1_0_0_0_0.log',\n",
       " 'fbgemm_correct_excel_results_1_256_256_28_28_1_3_3_2_2_1_1_1_1.log',\n",
       " 'fbgemm_correct_excel_results_1_1024_256_14_14_1_1_1_1_1_0_0_0_0.log',\n",
       " 'fbgemm_correct_excel_results_1_256_256_14_14_1_3_3_1_1_1_1_1_1.log',\n",
       " 'fbgemm_correct_excel_results_1_1024_512_14_14_1_1_1_1_1_0_0_0_0.log',\n",
       " 'fbgemm_correct_excel_results_1_512_512_14_14_1_3_3_2_2_1_1_1_1.log',\n",
       " 'fbgemm_correct_excel_results_1_2048_512_7_7_1_1_1_1_1_0_0_0_0.log',\n",
       " 'fbgemm_correct_excel_results_1_512_512_7_7_1_3_3_1_1_1_1_1_1.log']"
      ]
     },
     "execution_count": 255,
     "metadata": {},
     "output_type": "execute_result"
    }
   ],
   "source": [
    "log_file_name_lst"
   ]
  },
  {
   "cell_type": "code",
   "execution_count": 262,
   "metadata": {},
   "outputs": [],
   "source": [
    "def excel_lst(filepath):\n",
    "    words = filepath[29:][:-4]\n",
    "    words = [eval(w) for w in words.split(\"_\")]\n",
    "\n",
    "    config = words[0], words[1], words[2], [words[3], words[4]], words[5], [words[6], words[7]], [words[8], words[9]], \\\n",
    "             [words[10], words[11], words[12], words[13]]\n",
    "    MB, IC, OC, IN_DIM, G, K, stride, pad = config[0], config[1], config[2], config[3], \\\n",
    "                                            config[4], config[5], config[6], config[7]\n",
    "\n",
    "    config_lst = []\n",
    "    runtime_lst = []\n",
    "    TOTAL_filepath = \"../../../\" + filepath\n",
    "    with open(TOTAL_filepath) as fp:\n",
    "        for _, line in enumerate(fp):\n",
    "            line = line.replace(\"null\", \"None\")\n",
    "            line = eval(line)\n",
    "            config = line[\"i\"][5][\"e\"][0][2]\n",
    "            runtime = line[\"r\"][0][0]\n",
    "            config_lst.append(config)\n",
    "            runtime_lst.append(runtime)\n",
    "\n",
    "\n",
    "    # clean bad data\n",
    "    bad_config_lst = []\n",
    "    new_config_lst = []\n",
    "    new_runtime_lst = []\n",
    "    for i in range(len(config_lst)):\n",
    "        if runtime_lst[i] <= 1:\n",
    "            new_config_lst.append(config_lst[i])\n",
    "            new_runtime_lst.append(runtime_lst[i])\n",
    "        else:\n",
    "            bad_config_lst.append(config_lst[i])\n",
    "            \n",
    "        \n",
    "    IN_DIMP = [0, 0]\n",
    "    OUT_DIM = [0, 0]\n",
    "\n",
    "    IN_DIMP[0] = IN_DIM[0] + pad[0] + pad[2]\n",
    "    OUT_DIM[0] = (IN_DIMP[0] - K[0]) / stride[0] + 1\n",
    "\n",
    "    IN_DIMP[1] = IN_DIM[1] + pad[1] + pad[3]\n",
    "    OUT_DIM[1] = (IN_DIMP[1] - K[1]) / stride[1] + 1\n",
    "\n",
    "    MDim = MB * OUT_DIM[0] * OUT_DIM[1];\n",
    "    NDim = OC / G\n",
    "    KDim = K[0] * K[1] * IC\n",
    "    no_ops = 2 * MDim * NDim * KDim\n",
    "    \n",
    "    \n",
    "    Gops_lst = [no_ops / r / math.pow(10, 9) for r in new_runtime_lst]\n",
    "    \n",
    "    return Gops_lst[-1]"
   ]
  },
  {
   "cell_type": "code",
   "execution_count": 263,
   "metadata": {},
   "outputs": [],
   "source": [
    "excel_Gops_lst = []\n",
    "for filepath in log_file_name_lst:\n",
    "    def_Gops = excel_lst(filepath)\n",
    "    excel_Gops_lst.append(def_Gops)\n",
    "    #default_Gops_lst.append(def_Gops)"
   ]
  },
  {
   "cell_type": "code",
   "execution_count": 264,
   "metadata": {},
   "outputs": [
    {
     "data": {
      "text/plain": [
       "[29.23376213977461,\n",
       " 49.31317829918649,\n",
       " 76.9571658474524,\n",
       " 73.36793853627033,\n",
       " 104.60043963259886,\n",
       " 93.3962249403188,\n",
       " 131.99960522579005,\n",
       " 44.37535896355977,\n",
       " 26.174417242233037,\n",
       " 67.9438686942636,\n",
       " 67.53884107245375,\n",
       " 72.89822824593979,\n",
       " 105.1152665246157,\n",
       " 90.63289638754159,\n",
       " 102.1265597907742,\n",
       " 97.00733579378084,\n",
       " 132.63113515476797,\n",
       " 107.75641242758641,\n",
       " 124.79170869820489,\n",
       " 116.93865140143694,\n",
       " 152.026995679083,\n",
       " 120.82575980799653,\n",
       " 134.4322890054275]"
      ]
     },
     "execution_count": 264,
     "metadata": {},
     "output_type": "execute_result"
    }
   ],
   "source": [
    "excel_Gops_lst"
   ]
  },
  {
   "cell_type": "code",
   "execution_count": 155,
   "metadata": {},
   "outputs": [],
   "source": [
    "data = {'[1, 1024, 1024, [14, 14], 32, [3, 3], [2, 2], [1, 1, 1, 1]]': [8.46876120730694, 7.68],\n",
    " '[1, 1024, 1024, [7, 7], 32, [3, 3], [1, 1], [1, 1, 1, 1]]': [7.705396562815575, 8.17],\n",
    " '[1, 256, 256, [56, 56], 32, [3, 3], [2, 2], [1, 1, 1, 1]]': [0.6589603960866691, 0.67],\n",
    " '[1, 32, 16, [12, 14], 4, [3, 3], [1, 1], [0, 0, 0, 0]]': [0.2735292214646833, 0.29],\n",
    " '[1, 32, 32, [14, 14], 1, [3, 3], [1, 1], [0, 0, 0, 0]]': [6.552891316939057, 6.98],\n",
    " '[1, 32, 32, [14, 14], 1, [3, 3], [1, 1], [1, 1, 1, 1]]': [6.824012883878491, 7.35],\n",
    " '[1, 3, 64, [224, 224], 1, [7, 7], [2, 2], [3, 3, 3, 3]]': [19.427153338911253, 23.08],\n",
    " '[1, 512, 512, [28, 28], 32, [3, 3], [2, 2], [1, 1, 1, 1]]': [2.411341598831971, 2.45],\n",
    " '[1, 544, 544, [14, 14], 1, [3, 3], [2, 2], [1, 1, 1, 1]]': [121.46837527243056, 110.10],\n",
    " '[1, 8, 8, [4, 4], 1, [3, 3], [1, 1], [1, 1, 0, 0]]': [0.1284182312271323, 0.15],\n",
    " '[2, 32, 16, [16, 14], 4, [3, 3], [1, 1], [0, 0, 0, 0]]': [0.2948047584518683, 0.31],\n",
    " '[2, 32, 32, [28, 14], 1, [3, 3], [1, 1], [1, 1, 0, 0]]': [7.50258662617436, 7.56],\n",
    " '[50, 1024, 1024, [14, 14], 32, [3, 3], [2, 2], [1, 1, 1, 1]]': [8.45734419148354, 8.05],\n",
    " '[50, 1024, 1024, [7, 7], 32, [3, 3], [1, 1], [1, 1, 1, 1]]': [7.992325043093672, 7.92],\n",
    " '[50, 3, 64, [224, 224], 1, [7, 7], [2, 2], [3, 3, 3, 3]]': [19.431594783570613, 23.48],\n",
    " '[50, 512, 512, [28, 28], 32, [3, 3], [2, 2], [1, 1, 1, 1]]': [2.2856400567677335, 2.31]}\n"
   ]
  },
  {
   "cell_type": "code",
   "execution_count": 267,
   "metadata": {},
   "outputs": [
    {
     "data": {
      "text/plain": [
       "[29.23376213977461,\n",
       " 49.31317829918649,\n",
       " 76.9571658474524,\n",
       " 73.36793853627033,\n",
       " 104.60043963259886,\n",
       " 93.3962249403188,\n",
       " 131.99960522579005,\n",
       " 44.37535896355977,\n",
       " 26.174417242233037,\n",
       " 67.9438686942636,\n",
       " 67.53884107245375,\n",
       " 72.89822824593979,\n",
       " 105.1152665246157,\n",
       " 90.63289638754159,\n",
       " 102.1265597907742,\n",
       " 97.00733579378084,\n",
       " 132.63113515476797,\n",
       " 107.75641242758641,\n",
       " 124.79170869820489,\n",
       " 116.93865140143694,\n",
       " 152.026995679083,\n",
       " 120.82575980799653,\n",
       " 134.4322890054275]"
      ]
     },
     "execution_count": 267,
     "metadata": {},
     "output_type": "execute_result"
    }
   ],
   "source": [
    "excel_Gops_lst"
   ]
  },
  {
   "cell_type": "code",
   "execution_count": 265,
   "metadata": {},
   "outputs": [
    {
     "data": {
      "text/plain": [
       "[86.9,\n",
       " 111.9,\n",
       " 126.51,\n",
       " 126.15,\n",
       " 136.04,\n",
       " 128.81,\n",
       " 139.47,\n",
       " 75.04,\n",
       " 63.88,\n",
       " 82.73,\n",
       " 109.77,\n",
       " 123.81,\n",
       " 119.38,\n",
       " 123.78,\n",
       " 119.81,\n",
       " 133.7,\n",
       " 136.16,\n",
       " 131.78,\n",
       " 138.69,\n",
       " 141.79,\n",
       " 138.4,\n",
       " 139.79,\n",
       " 145.24]"
      ]
     },
     "execution_count": 265,
     "metadata": {},
     "output_type": "execute_result"
    }
   ],
   "source": [
    "time_lst"
   ]
  },
  {
   "cell_type": "code",
   "execution_count": 266,
   "metadata": {},
   "outputs": [
    {
     "data": {
      "image/png": "[encoded data removed]",
      "text/plain": [
       "<Figure size 1080x648 with 1 Axes>"
      ]
     },
     "metadata": {
      "needs_background": "light"
     },
     "output_type": "display_data"
    }
   ],
   "source": [
    "t = np.arange(len(excel_Gops_lst))\n",
    "\n",
    "fig = plt.figure(figsize=(15, 9))\n",
    "plt.plot(t, time_lst, 'r', excel_Gops_lst, 'b')\n",
    "fig.suptitle('FBGEMM vs autoTVM for default config', fontsize=20)\n",
    "plt.xlabel('convolution shapes', fontsize=16)\n",
    "plt.ylabel('Gops', fontsize=16)\n",
    "fig.savefig('test.jpg')"
   ]
  },
  {
   "cell_type": "code",
   "execution_count": 157,
   "metadata": {},
   "outputs": [],
   "source": [
    "shape_lst = []\n",
    "fbg_lst = []\n",
    "autotvm_lst = []\n",
    "for d in data:\n",
    "    shape_lst.append(d)\n",
    "    fbg, autotvm = data[d][0], data[d][1]\n",
    "    fbg_lst.append(fbg)\n",
    "    fbg_lst.append(autotvm)"
   ]
  },
  {
   "cell_type": "code",
   "execution_count": 158,
   "metadata": {},
   "outputs": [
    {
     "data": {
      "image/png": "[encoded data removed]",
      "text/plain": [
       "<Figure size 1080x648 with 1 Axes>"
      ]
     },
     "metadata": {
      "needs_background": "light"
     },
     "output_type": "display_data"
    }
   ],
   "source": [
    "fig = plt.figure(figsize=(15, 9))\n",
    "plt.plot(fbg_lst)\n",
    "plt.plot(autotvm_lst)\n",
    "fig.suptitle('FBGEMM vs autoTVM for default config', fontsize=20)\n",
    "plt.xlabel('convolution shapes', fontsize=16)\n",
    "plt.ylabel('Gops', fontsize=16)\n",
    "fig.savefig('test.jpg')"
   ]
  },
  {
   "cell_type": "code",
   "execution_count": 114,
   "metadata": {},
   "outputs": [],
   "source": [
    "def good_filepath_df(filepath):\n",
    "    words = filepath[21:][:-4]\n",
    "    words = [eval(w) for w in words.split(\"_\")]\n",
    "\n",
    "    config = words[0], words[1], words[2], [words[3], words[4]], words[5], [words[6], words[7]], [words[8], words[9]], \\\n",
    "             [words[10], words[11], words[12], words[13]]\n",
    "    MB, IC, OC, IN_DIM, G, K, stride, pad = config[0], config[1], config[2], config[3], \\\n",
    "                                            config[4], config[5], config[6], config[7]\n",
    "\n",
    "    config_lst = []\n",
    "    runtime_lst = []\n",
    "    TOTAL_filepath = \"../../../\" + filepath\n",
    "    with open(TOTAL_filepath) as fp:\n",
    "        for _, line in enumerate(fp):\n",
    "            line = line.replace(\"null\", \"None\")\n",
    "            line = eval(line)\n",
    "            config = line[\"i\"][5][\"e\"][0][2]\n",
    "            runtime = line[\"r\"][0][0]\n",
    "            config_lst.append(config)\n",
    "            runtime_lst.append(runtime)\n",
    "\n",
    "\n",
    "    # clean bad data\n",
    "    bad_config_lst = []\n",
    "    new_config_lst = []\n",
    "    new_runtime_lst = []\n",
    "    for i in range(len(config_lst)):\n",
    "        if runtime_lst[i] <= 1:\n",
    "            new_config_lst.append(config_lst[i])\n",
    "            new_runtime_lst.append(runtime_lst[i])\n",
    "        else:\n",
    "            bad_config_lst.append(config_lst[i])\n",
    "            \n",
    "    def_runtime = 0\n",
    "    for i in range(len(new_config_lst)):\n",
    "        #[140, 16, 512, 28, 16, 16, 4]\n",
    "        if new_config_lst[i][0] == 140 and new_config_lst[i][1] == 16 and new_config_lst[i][1] == 512:\n",
    "            print(new_config_lst[i])\n",
    "            #def_runtime = new_runtime_lst[i]\n",
    "    print(def_runtime)\n",
    "            \n",
    "    IN_DIMP = [0, 0]\n",
    "    OUT_DIM = [0, 0]\n",
    "\n",
    "    IN_DIMP[0] = IN_DIM[0] + pad[0] + pad[2]\n",
    "    OUT_DIM[0] = (IN_DIMP[0] - K[0]) / stride[0] + 1\n",
    "\n",
    "    IN_DIMP[1] = IN_DIM[1] + pad[1] + pad[3]\n",
    "    OUT_DIM[1] = (IN_DIMP[1] - K[1]) / stride[1] + 1\n",
    "\n",
    "    MDim = MB * OUT_DIM[0] * OUT_DIM[1];\n",
    "    NDim = OC / G\n",
    "    KDim = K[0] * K[1] * IC\n",
    "    no_ops = 2 * MDim * NDim * KDim\n",
    "    Gops_lst = [no_ops / r / math.pow(10, 9) for r in new_runtime_lst]\n",
    "    \n",
    "    dictionary = dict(zip(Gops_lst, new_config_lst))\n",
    "    pair = sorted(dictionary.items(), key = lambda x : -x[0])\n",
    "\n",
    "    new_config_x = [p[1] for p in pair]\n",
    "    new_Gops_lst = [p[0] for p in pair]\n",
    "    \n",
    "    new_config_lst = np.array(new_config_x)\n",
    "    new_config_lst = pd.DataFrame(new_config_lst, columns=[\"mcb\", \"ncb\", \"kcb\", \"mr\", \"nr\", \"16\", \"4\"])\n",
    "    new_config_lst = new_config_lst.drop([\"16\", \"4\"], axis = 1)\n",
    "    new_config_lst[\"Gops\"] = new_Gops_lst\n",
    "    \n",
    "    return new_config_lst, new_Gops_lst[0]\n"
   ]
  },
  {
   "cell_type": "code",
   "execution_count": 104,
   "metadata": {},
   "outputs": [],
   "source": [
    "def add_filepath_df(filepath):\n",
    "    words = filepath[19:][:-4]\n",
    "    print(words)\n",
    "    words = [eval(w) for w in words.split(\"_\")]\n",
    "\n",
    "    config = words[0], words[1], words[2], [words[3], words[4]], words[5], [words[6], words[7]], [words[8], words[9]], \\\n",
    "             [words[10], words[11], words[12], words[13]]\n",
    "    MB, IC, OC, IN_DIM, G, K, stride, pad = config[0], config[1], config[2], config[3], \\\n",
    "                                            config[4], config[5], config[6], config[7]\n",
    "\n",
    "    config_lst = []\n",
    "    runtime_lst = []\n",
    "    TOTAL_filepath = \"../../../\" + filepath\n",
    "    with open(TOTAL_filepath) as fp:\n",
    "        for _, line in enumerate(fp):\n",
    "            line = line.replace(\"null\", \"None\")\n",
    "            line = eval(line)\n",
    "            config = line[\"i\"][5][\"e\"][0][2]\n",
    "            runtime = line[\"r\"][0][0]\n",
    "            config_lst.append(config)\n",
    "            runtime_lst.append(runtime)\n",
    "\n",
    "\n",
    "    # clean bad data\n",
    "    bad_config_lst = []\n",
    "    new_config_lst = []\n",
    "    new_runtime_lst = []\n",
    "    for i in range(len(config_lst)):\n",
    "        if runtime_lst[i] <= 1:\n",
    "            new_config_lst.append(config_lst[i])\n",
    "            new_runtime_lst.append(runtime_lst[i])\n",
    "        else:\n",
    "            bad_config_lst.append(config_lst[i])\n",
    "    \n",
    "        \n",
    "    IN_DIMP = [0, 0]\n",
    "    OUT_DIM = [0, 0]\n",
    "\n",
    "    IN_DIMP[0] = IN_DIM[0] + pad[0] + pad[2]\n",
    "    OUT_DIM[0] = (IN_DIMP[0] - K[0]) / stride[0] + 1\n",
    "\n",
    "    IN_DIMP[1] = IN_DIM[1] + pad[1] + pad[3]\n",
    "    OUT_DIM[1] = (IN_DIMP[1] - K[1]) / stride[1] + 1\n",
    "\n",
    "    MDim = MB * OUT_DIM[0] * OUT_DIM[1];\n",
    "    NDim = OC / G\n",
    "    KDim = K[0] * K[1] * IC\n",
    "    no_ops = 2 * MDim * NDim * KDim\n",
    "    Gops_lst = [no_ops / r / math.pow(10, 9) for r in new_runtime_lst]\n",
    "    \n",
    "    dictionary = dict(zip(Gops_lst, new_config_lst))\n",
    "    pair = sorted(dictionary.items(), key = lambda x : -x[0])\n",
    "\n",
    "    new_config_x = [p[1] for p in pair]\n",
    "    new_Gops_lst = [p[0] for p in pair]\n",
    "    \n",
    "    new_config_lst = np.array(new_config_x)\n",
    "    new_config_lst = pd.DataFrame(new_config_lst, columns=[\"mcb\", \"ncb\", \"kcb\", \"mr\", \"nr\", \"16\", \"4\"])\n",
    "    new_config_lst = new_config_lst.drop([\"16\", \"4\"], axis = 1)\n",
    "    new_config_lst[\"Gops\"] = new_Gops_lst\n",
    "    \n",
    "    return new_config_lst, new_Gops_lst[0]\n"
   ]
  },
  {
   "cell_type": "code",
   "execution_count": 116,
   "metadata": {},
   "outputs": [
    {
     "name": "stdout",
     "output_type": "stream",
     "text": [
      "0\n",
      "(300, 6)\n",
      "0\n",
      "(300, 6)\n",
      "0\n",
      "(150, 6)\n",
      "0\n",
      "(150, 6)\n",
      "0\n",
      "(150, 6)\n",
      "0\n",
      "(299, 6)\n",
      "0\n",
      "(149, 6)\n",
      "0\n",
      "(150, 6)\n",
      "0\n",
      "(150, 6)\n"
     ]
    }
   ],
   "source": [
    "best_Gops_lst = []\n",
    "for filepath in good_filepaths:\n",
    "    _, best_Gops = good_filepath_df(filepath)\n",
    "    print(_.shape)\n",
    "    best_Gops_lst.append(best_Gops)"
   ]
  },
  {
   "cell_type": "code",
   "execution_count": 96,
   "metadata": {},
   "outputs": [
    {
     "data": {
      "text/plain": [
       "[0.30453783178712746,\n",
       " 7.491227990950267,\n",
       " 7.851584836219937,\n",
       " 20.451044374309213,\n",
       " 137.7049108001278,\n",
       " 0.18058848016888365,\n",
       " 0.3144331222189877,\n",
       " 8.183895669982364,\n",
       " 8.733575101982439]"
      ]
     },
     "execution_count": 96,
     "metadata": {},
     "output_type": "execute_result"
    }
   ],
   "source": [
    "best_Gops_lst"
   ]
  },
  {
   "cell_type": "code",
   "execution_count": 105,
   "metadata": {},
   "outputs": [
    {
     "name": "stdout",
     "output_type": "stream",
     "text": [
      "1_32_16_12_14_4_3_3_1_1_0_0_0_0\n",
      "[[140, 16, 512, 28, 16, 16, 4], [140, 16, 512, 28, 16, 16, 4]]\n",
      "1_32_32_14_14_1_3_3_1_1_0_0_0_0\n",
      "[[140, 16, 512, 28, 16, 16, 4], [140, 16, 512, 28, 16, 16, 4]]\n",
      "1_32_32_14_14_1_3_3_1_1_1_1_1_1\n",
      "[[140, 16, 512, 28, 16, 16, 4]]\n",
      "1_3_64_224_224_1_7_7_2_2_3_3_3_3\n",
      "[[140, 16, 512, 28, 16, 16, 4]]\n",
      "1_544_544_14_14_1_3_3_2_2_1_1_1_1\n",
      "[[140, 16, 512, 28, 16, 16, 4]]\n",
      "1_8_8_4_4_1_3_3_1_1_1_1_0_0\n",
      "[[140, 16, 512, 28, 16, 16, 4], [140, 16, 512, 28, 16, 16, 4]]\n",
      "2_32_16_16_14_4_3_3_1_1_0_0_0_0\n",
      "[[140, 16, 512, 28, 16, 16, 4]]\n",
      "2_32_32_14_14_1_3_3_1_1_0_0_0_0\n",
      "[[140, 16, 512, 28, 16, 16, 4]]\n",
      "2_32_32_28_14_1_3_3_1_1_1_1_0_0\n",
      "[[140, 16, 512, 28, 16, 16, 4]]\n"
     ]
    }
   ],
   "source": [
    "default_Gops_lst = []\n",
    "for filepath in add_filepaths:\n",
    "    _, def_Gops = add_filepath_df(filepath)\n",
    "    default_Gops_lst.append(def_Gops)"
   ]
  },
  {
   "cell_type": "code",
   "execution_count": 100,
   "metadata": {},
   "outputs": [
    {
     "data": {
      "text/plain": [
       "[0.29440612391997584,\n",
       " 6.959369017712487,\n",
       " 7.403108932304276,\n",
       " 20.069009785500516,\n",
       " 132.32248359025212,\n",
       " 0.1305719449149607,\n",
       " 0.3103272240841287,\n",
       " 7.848519476863543,\n",
       " 8.584755128820449]"
      ]
     },
     "execution_count": 100,
     "metadata": {},
     "output_type": "execute_result"
    }
   ],
   "source": [
    "default_Gops_lst"
   ]
  },
  {
   "cell_type": "code",
   "execution_count": 117,
   "metadata": {},
   "outputs": [],
   "source": [
    "percent = []\n",
    "for i in range(len(default_Gops_lst)):\n",
    "    p = best_Gops_lst[i] / default_Gops_lst[i]\n",
    "    percent.append(p)\n",
    "    "
   ]
  },
  {
   "cell_type": "code",
   "execution_count": 118,
   "metadata": {},
   "outputs": [
    {
     "data": {
      "text/plain": [
       "[1.034414052711436,\n",
       " 1.0764234475689003,\n",
       " 1.0605794008998959,\n",
       " 1.0190360457686711,\n",
       " 1.040676588466574,\n",
       " 1.3830572891174888,\n",
       " 1.0132308666987784,\n",
       " 1.0427311410906819,\n",
       " 1.0173353777631207]"
      ]
     },
     "execution_count": 118,
     "metadata": {},
     "output_type": "execute_result"
    }
   ],
   "source": [
    "percent"
   ]
  },
  {
   "cell_type": "code",
   "execution_count": 131,
   "metadata": {},
   "outputs": [
    {
     "data": {
      "image/png": "[encoded data removed]",
      "text/plain": [
       "<Figure size 1080x648 with 1 Axes>"
      ]
     },
     "metadata": {
      "needs_background": "light"
     },
     "output_type": "display_data"
    }
   ],
   "source": [
    "fig = plt.figure(figsize=(15, 9))\n",
    "plt.plot(percent)\n",
    "fig.suptitle('Performance speedup of autotuned convolution', fontsize=20)\n",
    "plt.xlabel('convolution shapes', fontsize=16)\n",
    "plt.ylabel('speedup', fontsize=16)\n",
    "fig.savefig('test.jpg')"
   ]
  },
  {
   "cell_type": "code",
   "execution_count": 53,
   "metadata": {},
   "outputs": [
    {
     "name": "stderr",
     "output_type": "stream",
     "text": [
      "/anaconda3/lib/python3.7/site-packages/plotly/offline/offline.py:524: UserWarning:\n",
      "\n",
      "Your filename `MB=1, IC=544, OC=544, IN_DIM=[14, 14], G=1, K=[3, 3], stride=[2, 2], pad=[1, 1, 1, 1]` didn't end with .html. Adding .html to the end of your file.\n",
      "\n"
     ]
    },
    {
     "data": {
      "text/plain": [
       "'MB=1, IC=544, OC=544, IN_DIM=[14, 14], G=1, K=[3, 3], stride=[2, 2], pad=[1, 1, 1, 1].html'"
      ]
     },
     "execution_count": 53,
     "metadata": {},
     "output_type": "execute_result"
    }
   ],
   "source": [
    "df = new_config_lst\n",
    "mcb_max = df['mcb'].max()\n",
    "mcb_min = df['mcb'].min()\n",
    "\n",
    "ncb_max = df['ncb'].max()\n",
    "ncb_min = df['ncb'].min()\n",
    "\n",
    "kcb_max = df['kcb'].max()\n",
    "kcb_min = df['kcb'].min()\n",
    "\n",
    "mr_max = df['mr'].max()\n",
    "mr_min = df['mr'].min()\n",
    "\n",
    "nr_max = df['nr'].max()\n",
    "nr_min = df['nr'].min()\n",
    "\n",
    "Gops_max = df['Gops'].max()\n",
    "Gops_min = df['Gops'].min()\n",
    "\n",
    "data = [\n",
    "    go.Parcoords(\n",
    "        line = dict(color = df['Gops'],\n",
    "                   colorscale = 'Jet',\n",
    "                   showscale = True,\n",
    "                   reversescale = False,\n",
    "                   cmin = Gops_min,\n",
    "                   cmax = Gops_max),\n",
    "        dimensions = list([\n",
    "            dict(range = [mcb_min,mcb_max],\n",
    "                 label = 'MCB', values = df['mcb']),\n",
    "            dict(range = [ncb_min,ncb_max],\n",
    "                 label = 'NCB', values = df['ncb']),\n",
    "            dict(range = [kcb_min,kcb_max],\n",
    "                 label = 'KCB', values = df['kcb']),\n",
    "            dict(range = [mr_min,mr_max],\n",
    "                 label = 'MR', values = df['mr']),\n",
    "            dict(range = [nr_min,nr_max],\n",
    "                 label = 'NR', values = df['nr'])\n",
    "        ])\n",
    "    )\n",
    "]\n",
    "\n",
    "layout = go.Layout(title=\"MB={}, IC={}, OC={}, IN_DIM={}, G={}, K={}, stride={}, pad={}\".format(MB, IC, OC, IN_DIM, G, K, stride, pad))\n",
    "\n",
    "py.offline.plot({\"data\": data, \"layout\": layout},\n",
    "                filename = \"MB={}, IC={}, OC={}, IN_DIM={}, G={}, K={}, stride={}, pad={}\".format(MB, IC, OC, IN_DIM, G, K, stride, pad), auto_open=True)"
   ]
  },
  {
   "cell_type": "code",
   "execution_count": null,
   "metadata": {},
   "outputs": [],
   "source": []
  },
  {
   "cell_type": "code",
   "execution_count": null,
   "metadata": {},
   "outputs": [],
   "source": []
  }
 ],
 "metadata": {
  "kernelspec": {
   "display_name": "Python 3",
   "language": "python",
   "name": "python3"
  },
  "language_info": {
   "codemirror_mode": {
    "name": "ipython",
    "version": 3
   },
   "file_extension": ".py",
   "mimetype": "text/x-python",
   "name": "python",
   "nbconvert_exporter": "python",
   "pygments_lexer": "ipython3",
   "version": "3.7.3"
  }
 },
 "nbformat": 4,
 "nbformat_minor": 2
}
